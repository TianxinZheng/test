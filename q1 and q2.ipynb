{
 "cells": [
  {
   "cell_type": "markdown",
   "metadata": {},
   "source": [
    "1. Unit Testing in Python"
   ]
  },
  {
   "cell_type": "markdown",
   "metadata": {},
   "source": [
    "Problem 1"
   ]
  },
  {
   "cell_type": "code",
   "execution_count": 11,
   "metadata": {},
   "outputs": [],
   "source": [
    "#original function\n",
    "def smallest_factor(n):\n",
    "    if n == 1: return 1\n",
    "    for i in range(2, int(n**.5)):\n",
    "        if n % i == 0: return i\n",
    "    return n"
   ]
  },
  {
   "cell_type": "code",
   "execution_count": null,
   "metadata": {},
   "outputs": [],
   "source": [
    "#my test case\n",
    "import smallest_factor\n",
    "\n",
    "def test_sf():\n",
    "    assert smallest_factor.smallest_factor(1) == 1, \"failed on 1\"   \n",
    "    assert smallest_factor.smallest_factor(4) == 2, \"failed on square number\"\n",
    "    assert smallest_factor.smallest_factor(15) == 3, \"failed on non-square number\" \n",
    "    assert smallest_factor.smallest_factor(7) == 7, \"failed on prime number\""
   ]
  },
  {
   "cell_type": "markdown",
   "metadata": {},
   "source": [
    "Below is the pytest result:"
   ]
  },
  {
   "cell_type": "raw",
   "metadata": {},
   "source": [
    " ============================= test session starts ==============================\n",
    "platform darwin -- Python 3.6.5, pytest-3.5.1, py-1.5.3, pluggy-0.6.0\n",
    "rootdir: /Users/tianxinzheng/Desktop/MACS30000/persp-analysis_A18/Assignments, inifile:\n",
    "plugins: remotedata-0.2.1, openfiles-0.3.0, doctestplus-0.1.3, cov-2.6.0, arraydiff-0.2\n",
    "collected 247 items                                                            \n",
    "\n",
    "test_month_length.py .                                                   [  0%]\n",
    "test_oper.py .                                                           [  0%]\n",
    "test_r.py .............................................................. [ 25%]\n",
    "........................................................................ [ 55%]\n",
    "........................................................................ [ 84%]\n",
    "......................................                                   [ 99%]\n",
    "test_sf.py F                                                             [100%]\n",
    "\n",
    "=================================== FAILURES ===================================\n",
    "___________________________________ test_sf ____________________________________\n",
    "\n",
    "    def test_sf():\n",
    "        assert smallest_factor.smallest_factor(1) == 1, \"failed on 1\"\n",
    ">       assert smallest_factor.smallest_factor(4) == 2, \"failed on square number\"\n",
    "E       AssertionError: failed on square number\n",
    "E       assert 4 == 2\n",
    "E        +  where 4 = <function smallest_factor at 0x1045938c8>(4)\n",
    "E        +    where <function smallest_factor at 0x1045938c8> = smallest_factor.smallest_factor\n",
    "\n",
    "test_sf.py:5: AssertionError\n",
    "===================== 1 failed, 246 passed in 0.51 seconds ====================="
   ]
  },
  {
   "cell_type": "markdown",
   "metadata": {},
   "source": [
    "I noticed that it failed on 4. This is because 2 is not in the range of int(4 ** 0.5). Thus I modified the original function as follows:\n",
    "    "
   ]
  },
  {
   "cell_type": "code",
   "execution_count": 10,
   "metadata": {},
   "outputs": [],
   "source": [
    "#modified function\n",
    "def smallest_factor(n):\n",
    "    if n == 1: return 1\n",
    "    for i in range(2, int(n**.5)):\n",
    "        if n % i == 0: return i\n",
    "    return n"
   ]
  },
  {
   "cell_type": "markdown",
   "metadata": {},
   "source": [
    "Now it passed all the test."
   ]
  },
  {
   "cell_type": "raw",
   "metadata": {},
   "source": [
    "======================================== test session starts =========================================\n",
    "platform darwin -- Python 3.6.5, pytest-3.5.1, py-1.5.3, pluggy-0.6.0\n",
    "rootdir: /Users/tianxinzheng/Desktop/MACS30000/persp-analysis_A18/Assignments, inifile:\n",
    "plugins: remotedata-0.2.1, openfiles-0.3.0, doctestplus-0.1.3, cov-2.6.0, arraydiff-0.2\n",
    "collected 247 items                                                                                  \n",
    "\n",
    "test_month_length.py .                                                                         [  0%]\n",
    "test_oper.py .                                                                                 [  0%]\n",
    "test_r.py .................................................................................... [ 34%]\n",
    ".............................................................................................. [ 72%]\n",
    "..................................................................                             [ 99%]\n",
    "test_sf.py .                                                                                   [100%]\n",
    "\n",
    "===================================== 247 passed in 0.46 seconds ===================================="
   ]
  },
  {
   "cell_type": "markdown",
   "metadata": {},
   "source": [
    "Problem 2"
   ]
  },
  {
   "cell_type": "raw",
   "metadata": {},
   "source": [
    "======================================== test session starts =========================================\n",
    "platform darwin -- Python 3.6.5, pytest-3.5.1, py-1.5.3, pluggy-0.6.0\n",
    "rootdir: /Users/tianxinzheng/Desktop/MACS30000/persp-analysis_A18/Assignments, inifile:\n",
    "plugins: remotedata-0.2.1, openfiles-0.3.0, doctestplus-0.1.3, cov-2.6.0, arraydiff-0.2\n",
    "collected 247 items                                                                                  \n",
    "\n",
    "test_month_length.py .                                                                         [  0%]\n",
    "test_oper.py .                                                                                 [  0%]\n",
    "test_r.py .................................................................................... [ 34%]\n",
    ".............................................................................................. [ 72%]\n",
    "..................................................................                             [ 99%]\n",
    "test_sf.py .                                                                                   [100%]\n",
    "\n",
    "---------- coverage: platform darwin, python 3.6.5-final-0 -----------\n",
    "Name                   Stmts   Miss  Cover\n",
    "------------------------------------------\n",
    "get_r.py                  24     11    54%\n",
    "month_length.py           10      0   100%\n",
    "oper.py                   14      0   100%\n",
    "smallest_factor.py         5      0   100%\n",
    "test_month_length.py       7      0   100%\n",
    "test_oper.py              16      0   100%\n",
    "test_r.py                 29      0   100%\n",
    "test_sf.py                 6      0   100%\n",
    "------------------------------------------\n",
    "TOTAL                    111     11    90%\n"
   ]
  },
  {
   "cell_type": "markdown",
   "metadata": {},
   "source": [
    "My smallest_factor function already got full coverage."
   ]
  },
  {
   "cell_type": "markdown",
   "metadata": {},
   "source": [
    "This is the month_length function:"
   ]
  },
  {
   "cell_type": "code",
   "execution_count": 4,
   "metadata": {},
   "outputs": [],
   "source": [
    "def month_length(month, leap_year=False):\n",
    "\tif month in {\"September\", \"April\", \"June\", \"November\"}:\n",
    "\t\treturn 30\n",
    "\telif month in {\"January\", \"March\", \"May\", \"July\", \\\n",
    "\t               \"August\", \"October\", \"December\"}:\n",
    "\t    return 31\n",
    "\tif month == \"February\":\n",
    "\t\tif not leap_year:\n",
    "\t\t\treturn 28\n",
    "\t\telse:\n",
    "\t\t\treturn 29\n",
    "\telse:\n",
    "\t\treturn None\n"
   ]
  },
  {
   "cell_type": "markdown",
   "metadata": {},
   "source": [
    "This is my test_month_length_function:"
   ]
  },
  {
   "cell_type": "code",
   "execution_count": null,
   "metadata": {},
   "outputs": [],
   "source": [
    "import month_length\n",
    "\n",
    "def test_month_length():\n",
    "    assert month_length.month_length(\"January\") == 31, \\\n",
    "        \"failed on month with 31 days\" \n",
    "    assert month_length.month_length(\"September\") == 30, \\\n",
    "        \"failed on month with 30 days\"\n",
    "    assert month_length.month_length(\"February\") == 28, \\\n",
    "        \"failed on February with none-leap year\"\n",
    "    assert month_length.month_length(\"February\", True) == 29, \\\n",
    "        \"failed on February with leap year\"\n",
    "    assert month_length.month_length(\"not a month\") == None, \\\n",
    "        \"failed on month not given\""
   ]
  },
  {
   "cell_type": "markdown",
   "metadata": {},
   "source": [
    "This is my test result:"
   ]
  },
  {
   "cell_type": "raw",
   "metadata": {},
   "source": [
    "======================================== test session starts =========================================\n",
    "platform darwin -- Python 3.6.5, pytest-3.5.1, py-1.5.3, pluggy-0.6.0\n",
    "rootdir: /Users/tianxinzheng/Desktop/MACS30000/persp-analysis_A18/Assignments, inifile:\n",
    "plugins: remotedata-0.2.1, openfiles-0.3.0, doctestplus-0.1.3, cov-2.6.0, arraydiff-0.2\n",
    "collected 247 items                                                                                  \n",
    "\n",
    "test_month_length.py .                                                                         [  0%]\n",
    "test_oper.py .                                                                                 [  0%]\n",
    "test_r.py .................................................................................... [ 34%]\n",
    ".............................................................................................. [ 72%]\n",
    "..................................................................                             [ 99%]\n",
    "test_sf.py .                                                                                   [100%]\n",
    "\n",
    "===================================== 247 passed in 0.46 seconds ===================================="
   ]
  },
  {
   "cell_type": "markdown",
   "metadata": {},
   "source": [
    "Problem 3"
   ]
  },
  {
   "cell_type": "markdown",
   "metadata": {},
   "source": [
    "This is the operate function:"
   ]
  },
  {
   "cell_type": "code",
   "execution_count": 6,
   "metadata": {},
   "outputs": [],
   "source": [
    "def operate(a, b, oper):\n",
    "    if type(oper) is not str:\n",
    "        raise TypeError(\"oper must be a string\")\n",
    "    elif oper == \"+\":\n",
    "        return a + b\n",
    "    elif oper == \"-\":\n",
    "        return a - b\n",
    "    elif oper == \"*\":\n",
    "        return a * b\n",
    "    elif oper == \"/\":\n",
    "        if b == 0:\n",
    "            raise ZeroDivisionError(\"division by zero is undefined\")\n",
    "        return a / b\n",
    "    raise ValueError(\"oper must be one of '+', '/', '-', or '*'\")"
   ]
  },
  {
   "cell_type": "markdown",
   "metadata": {},
   "source": [
    "This is my test_oper function:"
   ]
  },
  {
   "cell_type": "code",
   "execution_count": null,
   "metadata": {},
   "outputs": [],
   "source": [
    "import oper\n",
    "import pytest\n",
    "\n",
    "def test_oper():\n",
    "    assert oper.operate(1, 3, \"+\") == 4, \"failed on addition\"\n",
    "    assert oper.operate(1, 3, \"-\") == -2, \"failed on subtraction\"\n",
    "    assert oper.operate(1, 3, \"*\") == 3, \"failed on multiplication\"\n",
    "    assert oper.operate(1, 3, \"/\") == 1/3, \"failed on division\"\n",
    "    with pytest.raises(TypeError) as excinfo1:\n",
    "        oper.operate(1, 3, 4)\n",
    "    assert excinfo1.value.args[0] == \"oper must be a string\"\n",
    "    with pytest.raises(ZeroDivisionError) as excinfo2:\n",
    "        oper.operate(1, 0, \"/\")\n",
    "    assert excinfo2.value.args[0] == \"division by zero is undefined\"\n",
    "    with pytest.raises(ValueError) as excinfo3:\n",
    "        oper.operate(1, 3, \">\")\n",
    "    assert excinfo3.value.args[0] == \"oper must be one of '+', '/', '-', or '*'\""
   ]
  },
  {
   "cell_type": "markdown",
   "metadata": {},
   "source": [
    "I got full coverage of oper.py."
   ]
  },
  {
   "cell_type": "raw",
   "metadata": {},
   "source": [
    "======================================== test session starts =========================================\n",
    "platform darwin -- Python 3.6.5, pytest-3.5.1, py-1.5.3, pluggy-0.6.0\n",
    "rootdir: /Users/tianxinzheng/Desktop/MACS30000/persp-analysis_A18/Assignments, inifile:\n",
    "plugins: remotedata-0.2.1, openfiles-0.3.0, doctestplus-0.1.3, cov-2.6.0, arraydiff-0.2\n",
    "collected 247 items                                                                                  \n",
    "\n",
    "test_month_length.py .                                                                         [  0%]\n",
    "test_oper.py .                                                                                 [  0%]\n",
    "test_r.py .................................................................................... [ 34%]\n",
    ".............................................................................................. [ 72%]\n",
    "..................................................................                             [ 99%]\n",
    "test_sf.py .                                                                                   [100%]\n",
    "\n",
    "---------- coverage: platform darwin, python 3.6.5-final-0 -----------\n",
    "Name                   Stmts   Miss  Cover\n",
    "------------------------------------------\n",
    "get_r.py                  24     11    54%\n",
    "month_length.py           10      0   100%\n",
    "oper.py                   14      0   100%\n",
    "smallest_factor.py         5      0   100%\n",
    "test_month_length.py       7      0   100%\n",
    "test_oper.py              16      0   100%\n",
    "test_r.py                 29      0   100%\n",
    "test_sf.py                 6      0   100%\n",
    "------------------------------------------\n",
    "TOTAL                    111     11    90%\n",
    "\n"
   ]
  },
  {
   "cell_type": "markdown",
   "metadata": {},
   "source": [
    "The coverage report is attached in the folder."
   ]
  },
  {
   "cell_type": "markdown",
   "metadata": {},
   "source": [
    "2 Test Driven Development"
   ]
  },
  {
   "cell_type": "markdown",
   "metadata": {},
   "source": [
    "This is my get_r function:"
   ]
  },
  {
   "cell_type": "code",
   "execution_count": 9,
   "metadata": {},
   "outputs": [],
   "source": [
    "import numpy as np\n",
    "\n",
    "def get_r(K, L, alpha, Z, delta):\n",
    "    if type(K) is float and K <= 0:\n",
    "        raise ValueError(\"K must be positive\")\n",
    "    if type(K) is np.array:\n",
    "        if sum(K <= 0) > 0 :\n",
    "            raise ValueError(\"K must be positive\")\n",
    "    if type(L) is float and L <= 0:\n",
    "        raise ValueError(\"L must be positive\")\n",
    "    if type(L) is np.array:\n",
    "        if sum(L <= 0) > 0 :\n",
    "            raise ValueError(\"L must be positive\")\n",
    "    if Z <= 0:\n",
    "        raise ValueError(\"Z must be positive\")\n",
    "    if alpha < 0 or alpha > 1:\n",
    "        raise ValueError(\"alpha must be within 0 and 1\")\n",
    "    if delta < 0 or delta > 1:\n",
    "        raise ValueError(\"delta must be within 0 and 1\")\n",
    "    \n",
    "    r = alpha * Z * ((L / K) ** (1 - alpha)) - delta \n",
    "    if type(K) is float and type(L) is float and type(r) is not float:\n",
    "        raise TypeError(\"If K and L are scalers, r should also be a scaler\")\n",
    "    if type(K) is np.ndarray and type(L) is np.ndarray and type(r) is not np.ndarray:\n",
    "        raise TypeError(\"If K and L are scalers, r should also be a scaler\")\n",
    "           \n",
    "    return r"
   ]
  },
  {
   "cell_type": "markdown",
   "metadata": {},
   "source": [
    "This is the pytest result:"
   ]
  },
  {
   "cell_type": "raw",
   "metadata": {},
   "source": [
    "======================================== test session starts =========================================\n",
    "platform darwin -- Python 3.6.5, pytest-3.5.1, py-1.5.3, pluggy-0.6.0\n",
    "rootdir: /Users/tianxinzheng/Desktop/MACS30000/persp-analysis_A18/Assignments, inifile:\n",
    "plugins: remotedata-0.2.1, openfiles-0.3.0, doctestplus-0.1.3, cov-2.6.0, arraydiff-0.2\n",
    "collected 247 items                                                                                  \n",
    "\n",
    "test_month_length.py .                                                                         [  0%]\n",
    "test_oper.py .                                                                                 [  0%]\n",
    "test_r.py .................................................................................... [ 34%]\n",
    ".............................................................................................. [ 72%]\n",
    "..................................................................                             [ 99%]\n",
    "test_sf.py .                                                                                   [100%]\n",
    "\n",
    "===================================== 247 passed in 0.46 seconds ===================================="
   ]
  },
  {
   "cell_type": "markdown",
   "metadata": {},
   "source": [
    "This is the coverage result:"
   ]
  },
  {
   "cell_type": "raw",
   "metadata": {},
   "source": [
    "======================================== test session starts =========================================\n",
    "platform darwin -- Python 3.6.5, pytest-3.5.1, py-1.5.3, pluggy-0.6.0\n",
    "rootdir: /Users/tianxinzheng/Desktop/MACS30000/persp-analysis_A18/Assignments, inifile:\n",
    "plugins: remotedata-0.2.1, openfiles-0.3.0, doctestplus-0.1.3, cov-2.6.0, arraydiff-0.2\n",
    "collected 247 items                                                                                  \n",
    "\n",
    "test_month_length.py .                                                                         [  0%]\n",
    "test_oper.py .                                                                                 [  0%]\n",
    "test_r.py .................................................................................... [ 34%]\n",
    ".............................................................................................. [ 72%]\n",
    "..................................................................                             [ 99%]\n",
    "test_sf.py .                                                                                   [100%]\n",
    "\n",
    "---------- coverage: platform darwin, python 3.6.5-final-0 -----------\n",
    "Name                   Stmts   Miss  Cover\n",
    "------------------------------------------\n",
    "get_r.py                  24     11    54%\n",
    "month_length.py           10      0   100%\n",
    "oper.py                   14      0   100%\n",
    "smallest_factor.py         5      0   100%\n",
    "test_month_length.py       7      0   100%\n",
    "test_oper.py              16      0   100%\n",
    "test_r.py                 29      0   100%\n",
    "test_sf.py                 6      0   100%\n",
    "------------------------------------------\n",
    "TOTAL                    111     11    90%\n",
    "\n"
   ]
  },
  {
   "cell_type": "markdown",
   "metadata": {},
   "source": [
    "The coverage report is attached in the folder. As the test doesn't include all the assertion cases, my function, which includes all the assertion, can't realize full coverage."
   ]
  },
  {
   "cell_type": "markdown",
   "metadata": {},
   "source": [
    "3 Watt"
   ]
  },
  {
   "cell_type": "markdown",
   "metadata": {},
   "source": [
    "See attached pdf."
   ]
  },
  {
   "cell_type": "code",
   "execution_count": null,
   "metadata": {},
   "outputs": [],
   "source": []
  }
 ],
 "metadata": {
  "kernelspec": {
   "display_name": "Python 3",
   "language": "python",
   "name": "python3"
  },
  "language_info": {
   "codemirror_mode": {
    "name": "ipython",
    "version": 3
   },
   "file_extension": ".py",
   "mimetype": "text/x-python",
   "name": "python",
   "nbconvert_exporter": "python",
   "pygments_lexer": "ipython3",
   "version": "3.6.5"
  }
 },
 "nbformat": 4,
 "nbformat_minor": 2
}
